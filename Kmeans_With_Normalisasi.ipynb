{
 "cells": [
  {
   "cell_type": "code",
   "execution_count": 1,
   "id": "f55353af",
   "metadata": {},
   "outputs": [],
   "source": [
    "from sklearn.cluster import KMeans\n",
    "import pandas as pd\n",
    "from sklearn.preprocessing import MinMaxScaler\n",
    "from matplotlib import pyplot as plt\n",
    "import numpy as np\n",
    "from sklearn.metrics import davies_bouldin_score"
   ]
  },
  {
   "cell_type": "code",
   "execution_count": 2,
   "id": "a1196daa",
   "metadata": {},
   "outputs": [
    {
     "data": {
      "text/html": [
       "<div>\n",
       "<style scoped>\n",
       "    .dataframe tbody tr th:only-of-type {\n",
       "        vertical-align: middle;\n",
       "    }\n",
       "\n",
       "    .dataframe tbody tr th {\n",
       "        vertical-align: top;\n",
       "    }\n",
       "\n",
       "    .dataframe thead th {\n",
       "        text-align: right;\n",
       "    }\n",
       "</style>\n",
       "<table border=\"1\" class=\"dataframe\">\n",
       "  <thead>\n",
       "    <tr style=\"text-align: right;\">\n",
       "      <th></th>\n",
       "      <th>Jenis Tanaman\\nKind of Plants</th>\n",
       "      <th>2017</th>\n",
       "      <th>2018</th>\n",
       "      <th>2019</th>\n",
       "      <th>2020</th>\n",
       "    </tr>\n",
       "  </thead>\n",
       "  <tbody>\n",
       "    <tr>\n",
       "      <th>0</th>\n",
       "      <td>Bawang Daun/ Scallion</td>\n",
       "      <td>7686</td>\n",
       "      <td>9255</td>\n",
       "      <td>11852</td>\n",
       "      <td>13199</td>\n",
       "    </tr>\n",
       "    <tr>\n",
       "      <th>1</th>\n",
       "      <td>Bawang Merah/ Shallots</td>\n",
       "      <td>37157</td>\n",
       "      <td>41506</td>\n",
       "      <td>42962</td>\n",
       "      <td>47483</td>\n",
       "    </tr>\n",
       "    <tr>\n",
       "      <th>2</th>\n",
       "      <td>Bawang Putih/ Garlic</td>\n",
       "      <td>97</td>\n",
       "      <td>717</td>\n",
       "      <td>1235</td>\n",
       "      <td>1243</td>\n",
       "    </tr>\n",
       "    <tr>\n",
       "      <th>3</th>\n",
       "      <td>Bayam/ Spinach</td>\n",
       "      <td>2051</td>\n",
       "      <td>2180</td>\n",
       "      <td>2551</td>\n",
       "      <td>2438</td>\n",
       "    </tr>\n",
       "    <tr>\n",
       "      <th>4</th>\n",
       "      <td>Buncis/ string bean</td>\n",
       "      <td>1743</td>\n",
       "      <td>2415</td>\n",
       "      <td>1916</td>\n",
       "      <td>1804</td>\n",
       "    </tr>\n",
       "  </tbody>\n",
       "</table>\n",
       "</div>"
      ],
      "text/plain": [
       "  Jenis Tanaman\\nKind of Plants   2017   2018   2019   2020\n",
       "0         Bawang Daun/ Scallion   7686   9255  11852  13199\n",
       "1        Bawang Merah/ Shallots  37157  41506  42962  47483\n",
       "2          Bawang Putih/ Garlic     97    717   1235   1243\n",
       "3                Bayam/ Spinach   2051   2180   2551   2438\n",
       "4           Buncis/ string bean   1743   2415   1916   1804"
      ]
     },
     "execution_count": 2,
     "metadata": {},
     "output_type": "execute_result"
    }
   ],
   "source": [
    "df=pd.read_excel(\"data_luasPanen.xls\", header=2)   #import data excel \n",
    "df.head(5)\n",
    "# df"
   ]
  },
  {
   "cell_type": "code",
   "execution_count": 3,
   "id": "4d0ac5be",
   "metadata": {},
   "outputs": [
    {
     "data": {
      "text/html": [
       "<div>\n",
       "<style scoped>\n",
       "    .dataframe tbody tr th:only-of-type {\n",
       "        vertical-align: middle;\n",
       "    }\n",
       "\n",
       "    .dataframe tbody tr th {\n",
       "        vertical-align: top;\n",
       "    }\n",
       "\n",
       "    .dataframe thead th {\n",
       "        text-align: right;\n",
       "    }\n",
       "</style>\n",
       "<table border=\"1\" class=\"dataframe\">\n",
       "  <thead>\n",
       "    <tr style=\"text-align: right;\">\n",
       "      <th></th>\n",
       "      <th>2017</th>\n",
       "      <th>2018</th>\n",
       "      <th>2019</th>\n",
       "      <th>2020</th>\n",
       "    </tr>\n",
       "  </thead>\n",
       "  <tbody>\n",
       "    <tr>\n",
       "      <th>0</th>\n",
       "      <td>7686</td>\n",
       "      <td>9255</td>\n",
       "      <td>11852</td>\n",
       "      <td>13199</td>\n",
       "    </tr>\n",
       "    <tr>\n",
       "      <th>1</th>\n",
       "      <td>37157</td>\n",
       "      <td>41506</td>\n",
       "      <td>42962</td>\n",
       "      <td>47483</td>\n",
       "    </tr>\n",
       "    <tr>\n",
       "      <th>2</th>\n",
       "      <td>97</td>\n",
       "      <td>717</td>\n",
       "      <td>1235</td>\n",
       "      <td>1243</td>\n",
       "    </tr>\n",
       "    <tr>\n",
       "      <th>3</th>\n",
       "      <td>2051</td>\n",
       "      <td>2180</td>\n",
       "      <td>2551</td>\n",
       "      <td>2438</td>\n",
       "    </tr>\n",
       "    <tr>\n",
       "      <th>4</th>\n",
       "      <td>1743</td>\n",
       "      <td>2415</td>\n",
       "      <td>1916</td>\n",
       "      <td>1804</td>\n",
       "    </tr>\n",
       "  </tbody>\n",
       "</table>\n",
       "</div>"
      ],
      "text/plain": [
       "    2017   2018   2019   2020\n",
       "0   7686   9255  11852  13199\n",
       "1  37157  41506  42962  47483\n",
       "2     97    717   1235   1243\n",
       "3   2051   2180   2551   2438\n",
       "4   1743   2415   1916   1804"
      ]
     },
     "execution_count": 3,
     "metadata": {},
     "output_type": "execute_result"
    }
   ],
   "source": [
    "# drop digunakan untuk memotong data kolom\n",
    "df.drop('Jenis Tanaman\\nKind of Plants', axis=1, inplace=True)\n",
    "df.head(5)"
   ]
  },
  {
   "cell_type": "code",
   "execution_count": 4,
   "id": "26a6c6ee",
   "metadata": {},
   "outputs": [
    {
     "data": {
      "text/plain": [
       "array([[1.12115759e-01, 1.30907439e-01, 1.74637617e-01, 1.67373635e-01],\n",
       "       [5.43299829e-01, 5.88615140e-01, 6.33852921e-01, 6.02781306e-01],\n",
       "       [1.08267861e-03, 9.73574409e-03, 1.79198772e-02, 1.55321311e-02],\n",
       "       [2.96712461e-02, 3.04987085e-02, 3.73453783e-02, 3.07086614e-02],\n",
       "       [2.51649622e-02, 3.38338395e-02, 2.79721312e-02, 2.26568453e-02],\n",
       "       [1.99724941e-01, 1.73966109e-01, 1.79626841e-01, 1.53136906e-01],\n",
       "       [1.00000000e+00, 1.00000000e+00, 1.00000000e+00, 1.00000000e+00],\n",
       "       [1.31677128e-03, 4.39953450e-04, 5.01874649e-04, 3.81000762e-04],\n",
       "       [3.01394314e-03, 4.81110386e-03, 6.25867210e-03, 3.73380747e-03],\n",
       "       [6.99790780e-02, 6.60072096e-02, 7.25651699e-02, 5.99060198e-02],\n",
       "       [4.82230903e-02, 5.13468252e-02, 5.95164290e-02, 7.58318517e-02],\n",
       "       [1.65035333e-02, 2.01101303e-02, 2.71307531e-02, 3.43154686e-02],\n",
       "       [1.75657288e-01, 1.89591553e-01, 1.86712131e-01, 1.96329693e-01],\n",
       "       [3.66940262e-02, 3.78359967e-02, 4.11980043e-02, 3.39852680e-02],\n",
       "       [1.57456583e-01, 1.42857143e-01, 1.76571310e-01, 1.65278131e-01],\n",
       "       [5.67674728e-03, 6.52834152e-03, 7.17385528e-03, 7.96291593e-03],\n",
       "       [0.00000000e+00, 0.00000000e+00, 0.00000000e+00, 0.00000000e+00],\n",
       "       [1.17046336e-04, 1.84496608e-04, 4.32497860e-03, 3.67030734e-03],\n",
       "       [7.71920584e-02, 8.68269422e-02, 8.91565554e-02, 8.16484633e-02],\n",
       "       [5.47337927e-02, 5.57179756e-02, 5.90145544e-02, 5.07620015e-02],\n",
       "       [6.22686506e-02, 5.63282337e-02, 6.82549523e-02, 6.46431293e-02],\n",
       "       [4.10540023e-02, 5.80170872e-02, 1.35033803e-01, 1.22479045e-01],\n",
       "       [2.88519218e-02, 2.96897619e-02, 3.31532489e-02, 2.26060452e-02],\n",
       "       [3.15586183e-02, 3.02432517e-02, 5.55014318e-02, 3.98018796e-02],\n",
       "       [1.07536321e-01, 1.15863870e-01, 1.39181649e-01, 9.79679959e-02],\n",
       "       [4.97446927e-04, 2.83840936e-04, 4.72352611e-04, 3.68300737e-04]])"
      ]
     },
     "execution_count": 4,
     "metadata": {},
     "output_type": "execute_result"
    }
   ],
   "source": [
    "#Normalisasi data (MinMaxScaler)\n",
    "from sklearn import preprocessing\n",
    "\n",
    "minmax_scaler=preprocessing.MinMaxScaler()      #default minmaxscaler  untuk min=0 max=1\n",
    "normalisasi=minmax_scaler.fit_transform(df)         #mentransformasi data df\n",
    "normalisasi"
   ]
  },
  {
   "cell_type": "code",
   "execution_count": 13,
   "id": "583cd494",
   "metadata": {},
   "outputs": [
    {
     "data": {
      "text/plain": [
       "array([1, 2, 1, 1, 1, 1, 0, 1, 1, 1, 1, 1, 1, 1, 1, 1, 1, 1, 1, 1, 1, 1,\n",
       "       1, 1, 1, 1])"
      ]
     },
     "execution_count": 13,
     "metadata": {},
     "output_type": "execute_result"
    }
   ],
   "source": [
    "kmeans = KMeans(n_clusters = 3, random_state=0, init=\"random\")\n",
    "kmeans.fit(normalisasi)\n",
    "kmeans.labels_"
   ]
  },
  {
   "cell_type": "code",
   "execution_count": 14,
   "id": "07bdee97",
   "metadata": {},
   "outputs": [
    {
     "data": {
      "text/plain": [
       "array([1, 2, 1, 1, 1, 1, 0, 1, 1, 1, 1, 1, 1, 1, 1, 1, 1, 1, 1, 1, 1, 1,\n",
       "       1, 1, 1, 1])"
      ]
     },
     "execution_count": 14,
     "metadata": {},
     "output_type": "execute_result"
    }
   ],
   "source": [
    "predict =kmeans.predict(normalisasi)\n",
    "predict"
   ]
  },
  {
   "cell_type": "code",
   "execution_count": 15,
   "id": "d9f0eb54",
   "metadata": {},
   "outputs": [
    {
     "data": {
      "text/html": [
       "<div>\n",
       "<style scoped>\n",
       "    .dataframe tbody tr th:only-of-type {\n",
       "        vertical-align: middle;\n",
       "    }\n",
       "\n",
       "    .dataframe tbody tr th {\n",
       "        vertical-align: top;\n",
       "    }\n",
       "\n",
       "    .dataframe thead th {\n",
       "        text-align: right;\n",
       "    }\n",
       "</style>\n",
       "<table border=\"1\" class=\"dataframe\">\n",
       "  <thead>\n",
       "    <tr style=\"text-align: right;\">\n",
       "      <th></th>\n",
       "      <th>2017</th>\n",
       "      <th>2018</th>\n",
       "      <th>2019</th>\n",
       "      <th>2020</th>\n",
       "      <th>cluster</th>\n",
       "    </tr>\n",
       "  </thead>\n",
       "  <tbody>\n",
       "    <tr>\n",
       "      <th>0</th>\n",
       "      <td>7686</td>\n",
       "      <td>9255</td>\n",
       "      <td>11852</td>\n",
       "      <td>13199</td>\n",
       "      <td>1</td>\n",
       "    </tr>\n",
       "    <tr>\n",
       "      <th>1</th>\n",
       "      <td>37157</td>\n",
       "      <td>41506</td>\n",
       "      <td>42962</td>\n",
       "      <td>47483</td>\n",
       "      <td>2</td>\n",
       "    </tr>\n",
       "    <tr>\n",
       "      <th>2</th>\n",
       "      <td>97</td>\n",
       "      <td>717</td>\n",
       "      <td>1235</td>\n",
       "      <td>1243</td>\n",
       "      <td>1</td>\n",
       "    </tr>\n",
       "    <tr>\n",
       "      <th>3</th>\n",
       "      <td>2051</td>\n",
       "      <td>2180</td>\n",
       "      <td>2551</td>\n",
       "      <td>2438</td>\n",
       "      <td>1</td>\n",
       "    </tr>\n",
       "    <tr>\n",
       "      <th>4</th>\n",
       "      <td>1743</td>\n",
       "      <td>2415</td>\n",
       "      <td>1916</td>\n",
       "      <td>1804</td>\n",
       "      <td>1</td>\n",
       "    </tr>\n",
       "    <tr>\n",
       "      <th>5</th>\n",
       "      <td>13674</td>\n",
       "      <td>12289</td>\n",
       "      <td>12190</td>\n",
       "      <td>12078</td>\n",
       "      <td>1</td>\n",
       "    </tr>\n",
       "    <tr>\n",
       "      <th>6</th>\n",
       "      <td>68372</td>\n",
       "      <td>70493</td>\n",
       "      <td>67767</td>\n",
       "      <td>78760</td>\n",
       "      <td>0</td>\n",
       "    </tr>\n",
       "  </tbody>\n",
       "</table>\n",
       "</div>"
      ],
      "text/plain": [
       "    2017   2018   2019   2020  cluster\n",
       "0   7686   9255  11852  13199        1\n",
       "1  37157  41506  42962  47483        2\n",
       "2     97    717   1235   1243        1\n",
       "3   2051   2180   2551   2438        1\n",
       "4   1743   2415   1916   1804        1\n",
       "5  13674  12289  12190  12078        1\n",
       "6  68372  70493  67767  78760        0"
      ]
     },
     "execution_count": 15,
     "metadata": {},
     "output_type": "execute_result"
    }
   ],
   "source": [
    "df['cluster']=predict\n",
    "df.head(7)"
   ]
  },
  {
   "cell_type": "code",
   "execution_count": 16,
   "id": "aba371dc",
   "metadata": {},
   "outputs": [
    {
     "name": "stdout",
     "output_type": "stream",
     "text": [
      "0.07714051025494487\n"
     ]
    }
   ],
   "source": [
    "db_index = davies_bouldin_score(df, predict)\n",
    "print(db_index)"
   ]
  },
  {
   "cell_type": "code",
   "execution_count": 17,
   "id": "ebef6c83",
   "metadata": {},
   "outputs": [
    {
     "data": {
      "text/plain": [
       "[<matplotlib.lines.Line2D at 0x23affb19a60>]"
      ]
     },
     "execution_count": 17,
     "metadata": {},
     "output_type": "execute_result"
    },
    {
     "data": {
      "image/png": "[encoded data removed]",
      "text/plain": [
       "<Figure size 432x288 with 1 Axes>"
      ]
     },
     "metadata": {
      "needs_background": "light"
     },
     "output_type": "display_data"
    }
   ],
   "source": [
    "#elbow-curve\n",
    "ssd = []\n",
    "K = range (2,15)\n",
    "for num_clusters in K:\n",
    "    kmeans = KMeans(n_clusters=num_clusters, max_iter=50)\n",
    "    kmeans.fit(normalisasi)\n",
    "    ssd.append(kmeans.inertia_)\n",
    "#plot SSDs untuk setiap n_clusters\n",
    "plt.plot(ssd)\n",
    "#print (ssd)"
   ]
  },
  {
   "cell_type": "code",
   "execution_count": 21,
   "id": "ac2b8acb",
   "metadata": {},
   "outputs": [
    {
     "name": "stdout",
     "output_type": "stream",
     "text": [
      "for n_clusters=2, the silhouette score is 0.8669676817390768\n",
      "for n_clusters=3, the silhouette score is 0.8008633776882547\n",
      "for n_clusters=4, the silhouette score is 0.6181979633242622\n",
      "for n_clusters=5, the silhouette score is 0.5330643345669531\n",
      "for n_clusters=6, the silhouette score is 0.47219474463368866\n",
      "for n_clusters=7, the silhouette score is 0.5236304417482012\n",
      "for n_clusters=8, the silhouette score is 0.49850857157586975\n",
      "for n_clusters=9, the silhouette score is 0.48791361269991707\n",
      "for n_clusters=10, the silhouette score is 0.4680059603099774\n",
      "for n_clusters=11, the silhouette score is 0.42748767349026157\n",
      "for n_clusters=12, the silhouette score is 0.4215053004580839\n",
      "for n_clusters=13, the silhouette score is 0.3441789334162659\n",
      "for n_clusters=14, the silhouette score is 0.29335632726882843\n"
     ]
    }
   ],
   "source": [
    "from sklearn.metrics import silhouette_score\n",
    "K = range (2,15)\n",
    "for num_clusters in K:\n",
    "    \n",
    "    #inisalisai kmeans\n",
    "    kmeans = KMeans(n_clusters=num_clusters, max_iter=50)\n",
    "    kmeans.fit(normalisasi)\n",
    "    kluster = kmeans.labels_\n",
    "    \n",
    "    #silhouette score\n",
    "    silhouette_rata2 = silhouette_score(normalisasi, kluster)\n",
    "    print (\"for n_clusters={0}, the silhouette score is {1}\".format (num_clusters,  silhouette_rata2))"
   ]
  },
  {
   "cell_type": "code",
   "execution_count": null,
   "id": "ea1ede79",
   "metadata": {},
   "outputs": [],
   "source": []
  }
 ],
 "metadata": {
  "kernelspec": {
   "display_name": "Python 3",
   "language": "python",
   "name": "python3"
  },
  "language_info": {
   "codemirror_mode": {
    "name": "ipython",
    "version": 3
   },
   "file_extension": ".py",
   "mimetype": "text/x-python",
   "name": "python",
   "nbconvert_exporter": "python",
   "pygments_lexer": "ipython3",
   "version": "3.8.8"
  }
 },
 "nbformat": 4,
 "nbformat_minor": 5
}
