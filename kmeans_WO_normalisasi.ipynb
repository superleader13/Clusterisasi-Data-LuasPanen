{
 "cells": [
  {
   "cell_type": "code",
   "execution_count": 1,
   "id": "7525cd25",
   "metadata": {},
   "outputs": [],
   "source": [
    "from sklearn.cluster import KMeans\n",
    "import pandas as pd\n",
    "from matplotlib import pyplot as plt\n",
    "import numpy as np\n",
    "from sklearn.metrics import davies_bouldin_score"
   ]
  },
  {
   "cell_type": "code",
   "execution_count": 2,
   "id": "8302bd75",
   "metadata": {},
   "outputs": [
    {
     "data": {
      "text/html": [
       "<div>\n",
       "<style scoped>\n",
       "    .dataframe tbody tr th:only-of-type {\n",
       "        vertical-align: middle;\n",
       "    }\n",
       "\n",
       "    .dataframe tbody tr th {\n",
       "        vertical-align: top;\n",
       "    }\n",
       "\n",
       "    .dataframe thead th {\n",
       "        text-align: right;\n",
       "    }\n",
       "</style>\n",
       "<table border=\"1\" class=\"dataframe\">\n",
       "  <thead>\n",
       "    <tr style=\"text-align: right;\">\n",
       "      <th></th>\n",
       "      <th>Jenis Tanaman\\nKind of Plants</th>\n",
       "      <th>2017</th>\n",
       "      <th>2018</th>\n",
       "      <th>2019</th>\n",
       "      <th>2020</th>\n",
       "    </tr>\n",
       "  </thead>\n",
       "  <tbody>\n",
       "    <tr>\n",
       "      <th>0</th>\n",
       "      <td>Bawang Daun/ Scallion</td>\n",
       "      <td>7686</td>\n",
       "      <td>9255</td>\n",
       "      <td>11852</td>\n",
       "      <td>13199</td>\n",
       "    </tr>\n",
       "    <tr>\n",
       "      <th>1</th>\n",
       "      <td>Bawang Merah/ Shallots</td>\n",
       "      <td>37157</td>\n",
       "      <td>41506</td>\n",
       "      <td>42962</td>\n",
       "      <td>47483</td>\n",
       "    </tr>\n",
       "    <tr>\n",
       "      <th>2</th>\n",
       "      <td>Bawang Putih/ Garlic</td>\n",
       "      <td>97</td>\n",
       "      <td>717</td>\n",
       "      <td>1235</td>\n",
       "      <td>1243</td>\n",
       "    </tr>\n",
       "    <tr>\n",
       "      <th>3</th>\n",
       "      <td>Bayam/ Spinach</td>\n",
       "      <td>2051</td>\n",
       "      <td>2180</td>\n",
       "      <td>2551</td>\n",
       "      <td>2438</td>\n",
       "    </tr>\n",
       "    <tr>\n",
       "      <th>4</th>\n",
       "      <td>Buncis/ string bean</td>\n",
       "      <td>1743</td>\n",
       "      <td>2415</td>\n",
       "      <td>1916</td>\n",
       "      <td>1804</td>\n",
       "    </tr>\n",
       "  </tbody>\n",
       "</table>\n",
       "</div>"
      ],
      "text/plain": [
       "  Jenis Tanaman\\nKind of Plants   2017   2018   2019   2020\n",
       "0         Bawang Daun/ Scallion   7686   9255  11852  13199\n",
       "1        Bawang Merah/ Shallots  37157  41506  42962  47483\n",
       "2          Bawang Putih/ Garlic     97    717   1235   1243\n",
       "3                Bayam/ Spinach   2051   2180   2551   2438\n",
       "4           Buncis/ string bean   1743   2415   1916   1804"
      ]
     },
     "execution_count": 2,
     "metadata": {},
     "output_type": "execute_result"
    }
   ],
   "source": [
    "df=pd.read_excel(\"data_luasPanen.xls\", header=2)   #import data excel \n",
    "df.head(5)\n",
    "# df"
   ]
  },
  {
   "cell_type": "code",
   "execution_count": 3,
   "id": "ba8de957",
   "metadata": {},
   "outputs": [
    {
     "data": {
      "text/html": [
       "<div>\n",
       "<style scoped>\n",
       "    .dataframe tbody tr th:only-of-type {\n",
       "        vertical-align: middle;\n",
       "    }\n",
       "\n",
       "    .dataframe tbody tr th {\n",
       "        vertical-align: top;\n",
       "    }\n",
       "\n",
       "    .dataframe thead th {\n",
       "        text-align: right;\n",
       "    }\n",
       "</style>\n",
       "<table border=\"1\" class=\"dataframe\">\n",
       "  <thead>\n",
       "    <tr style=\"text-align: right;\">\n",
       "      <th></th>\n",
       "      <th>2017</th>\n",
       "      <th>2018</th>\n",
       "      <th>2019</th>\n",
       "      <th>2020</th>\n",
       "    </tr>\n",
       "  </thead>\n",
       "  <tbody>\n",
       "    <tr>\n",
       "      <th>0</th>\n",
       "      <td>7686</td>\n",
       "      <td>9255</td>\n",
       "      <td>11852</td>\n",
       "      <td>13199</td>\n",
       "    </tr>\n",
       "    <tr>\n",
       "      <th>1</th>\n",
       "      <td>37157</td>\n",
       "      <td>41506</td>\n",
       "      <td>42962</td>\n",
       "      <td>47483</td>\n",
       "    </tr>\n",
       "    <tr>\n",
       "      <th>2</th>\n",
       "      <td>97</td>\n",
       "      <td>717</td>\n",
       "      <td>1235</td>\n",
       "      <td>1243</td>\n",
       "    </tr>\n",
       "    <tr>\n",
       "      <th>3</th>\n",
       "      <td>2051</td>\n",
       "      <td>2180</td>\n",
       "      <td>2551</td>\n",
       "      <td>2438</td>\n",
       "    </tr>\n",
       "    <tr>\n",
       "      <th>4</th>\n",
       "      <td>1743</td>\n",
       "      <td>2415</td>\n",
       "      <td>1916</td>\n",
       "      <td>1804</td>\n",
       "    </tr>\n",
       "  </tbody>\n",
       "</table>\n",
       "</div>"
      ],
      "text/plain": [
       "    2017   2018   2019   2020\n",
       "0   7686   9255  11852  13199\n",
       "1  37157  41506  42962  47483\n",
       "2     97    717   1235   1243\n",
       "3   2051   2180   2551   2438\n",
       "4   1743   2415   1916   1804"
      ]
     },
     "execution_count": 3,
     "metadata": {},
     "output_type": "execute_result"
    }
   ],
   "source": [
    "# drop digunakan untuk memotong data kolom\n",
    "df.drop('Jenis Tanaman\\nKind of Plants', axis=1, inplace=True)\n",
    "df.head(5)"
   ]
  },
  {
   "cell_type": "code",
   "execution_count": 10,
   "id": "d7a58004",
   "metadata": {},
   "outputs": [
    {
     "data": {
      "text/plain": [
       "array([1, 2, 1, 1, 1, 1, 0, 1, 1, 1, 1, 1, 1, 1, 1, 1, 1, 1, 1, 1, 1, 1,\n",
       "       1, 1, 1, 1])"
      ]
     },
     "execution_count": 10,
     "metadata": {},
     "output_type": "execute_result"
    }
   ],
   "source": [
    "kmeans = KMeans(n_clusters = 3, random_state=0, init=\"random\")\n",
    "kmeans.fit(df)                                         #melatih data df\n",
    "kmeans.labels_"
   ]
  },
  {
   "cell_type": "code",
   "execution_count": 11,
   "id": "e6e49980",
   "metadata": {},
   "outputs": [
    {
     "data": {
      "text/plain": [
       "array([1, 2, 1, 1, 1, 1, 0, 1, 1, 1, 1, 1, 1, 1, 1, 1, 1, 1, 1, 1, 1, 1,\n",
       "       1, 1, 1, 1])"
      ]
     },
     "execution_count": 11,
     "metadata": {},
     "output_type": "execute_result"
    }
   ],
   "source": [
    "predict =kmeans.predict(df)\n",
    "predict"
   ]
  },
  {
   "cell_type": "code",
   "execution_count": 12,
   "id": "7658b0c2",
   "metadata": {},
   "outputs": [
    {
     "data": {
      "text/html": [
       "<div>\n",
       "<style scoped>\n",
       "    .dataframe tbody tr th:only-of-type {\n",
       "        vertical-align: middle;\n",
       "    }\n",
       "\n",
       "    .dataframe tbody tr th {\n",
       "        vertical-align: top;\n",
       "    }\n",
       "\n",
       "    .dataframe thead th {\n",
       "        text-align: right;\n",
       "    }\n",
       "</style>\n",
       "<table border=\"1\" class=\"dataframe\">\n",
       "  <thead>\n",
       "    <tr style=\"text-align: right;\">\n",
       "      <th></th>\n",
       "      <th>2017</th>\n",
       "      <th>2018</th>\n",
       "      <th>2019</th>\n",
       "      <th>2020</th>\n",
       "      <th>cluster</th>\n",
       "    </tr>\n",
       "  </thead>\n",
       "  <tbody>\n",
       "    <tr>\n",
       "      <th>0</th>\n",
       "      <td>7686</td>\n",
       "      <td>9255</td>\n",
       "      <td>11852</td>\n",
       "      <td>13199</td>\n",
       "      <td>1</td>\n",
       "    </tr>\n",
       "    <tr>\n",
       "      <th>1</th>\n",
       "      <td>37157</td>\n",
       "      <td>41506</td>\n",
       "      <td>42962</td>\n",
       "      <td>47483</td>\n",
       "      <td>2</td>\n",
       "    </tr>\n",
       "    <tr>\n",
       "      <th>2</th>\n",
       "      <td>97</td>\n",
       "      <td>717</td>\n",
       "      <td>1235</td>\n",
       "      <td>1243</td>\n",
       "      <td>1</td>\n",
       "    </tr>\n",
       "    <tr>\n",
       "      <th>3</th>\n",
       "      <td>2051</td>\n",
       "      <td>2180</td>\n",
       "      <td>2551</td>\n",
       "      <td>2438</td>\n",
       "      <td>1</td>\n",
       "    </tr>\n",
       "    <tr>\n",
       "      <th>4</th>\n",
       "      <td>1743</td>\n",
       "      <td>2415</td>\n",
       "      <td>1916</td>\n",
       "      <td>1804</td>\n",
       "      <td>1</td>\n",
       "    </tr>\n",
       "    <tr>\n",
       "      <th>5</th>\n",
       "      <td>13674</td>\n",
       "      <td>12289</td>\n",
       "      <td>12190</td>\n",
       "      <td>12078</td>\n",
       "      <td>1</td>\n",
       "    </tr>\n",
       "    <tr>\n",
       "      <th>6</th>\n",
       "      <td>68372</td>\n",
       "      <td>70493</td>\n",
       "      <td>67767</td>\n",
       "      <td>78760</td>\n",
       "      <td>0</td>\n",
       "    </tr>\n",
       "    <tr>\n",
       "      <th>7</th>\n",
       "      <td>113</td>\n",
       "      <td>62</td>\n",
       "      <td>55</td>\n",
       "      <td>50</td>\n",
       "      <td>1</td>\n",
       "    </tr>\n",
       "    <tr>\n",
       "      <th>8</th>\n",
       "      <td>229</td>\n",
       "      <td>370</td>\n",
       "      <td>445</td>\n",
       "      <td>314</td>\n",
       "      <td>1</td>\n",
       "    </tr>\n",
       "    <tr>\n",
       "      <th>9</th>\n",
       "      <td>4806</td>\n",
       "      <td>4682</td>\n",
       "      <td>4937</td>\n",
       "      <td>4737</td>\n",
       "      <td>1</td>\n",
       "    </tr>\n",
       "  </tbody>\n",
       "</table>\n",
       "</div>"
      ],
      "text/plain": [
       "    2017   2018   2019   2020  cluster\n",
       "0   7686   9255  11852  13199        1\n",
       "1  37157  41506  42962  47483        2\n",
       "2     97    717   1235   1243        1\n",
       "3   2051   2180   2551   2438        1\n",
       "4   1743   2415   1916   1804        1\n",
       "5  13674  12289  12190  12078        1\n",
       "6  68372  70493  67767  78760        0\n",
       "7    113     62     55     50        1\n",
       "8    229    370    445    314        1\n",
       "9   4806   4682   4937   4737        1"
      ]
     },
     "execution_count": 12,
     "metadata": {},
     "output_type": "execute_result"
    }
   ],
   "source": [
    "df['cluster']=predict\n",
    "df.head(10)"
   ]
  },
  {
   "cell_type": "code",
   "execution_count": 13,
   "id": "d1087cee",
   "metadata": {},
   "outputs": [
    {
     "name": "stdout",
     "output_type": "stream",
     "text": [
      "0.07714051025494487\n"
     ]
    }
   ],
   "source": [
    "db_index = davies_bouldin_score(df, predict)\n",
    "print(db_index)"
   ]
  },
  {
   "cell_type": "code",
   "execution_count": 14,
   "id": "75ba8ee5",
   "metadata": {},
   "outputs": [
    {
     "data": {
      "text/plain": [
       "[<matplotlib.lines.Line2D at 0x15db497c4c0>]"
      ]
     },
     "execution_count": 14,
     "metadata": {},
     "output_type": "execute_result"
    },
    {
     "data": {
      "image/png": "[encoded data removed]",
      "text/plain": [
       "<Figure size 432x288 with 1 Axes>"
      ]
     },
     "metadata": {
      "needs_background": "light"
     },
     "output_type": "display_data"
    }
   ],
   "source": [
    "#elbow \n",
    "ssd = []\n",
    "K = range (2,15)\n",
    "for num_clusters in K:\n",
    "    kmeans = KMeans(n_clusters=num_clusters, max_iter=50)\n",
    "    kmeans.fit(df)\n",
    "    ssd.append(kmeans.inertia_)\n",
    "#plot SSDs untuk setiap n_clusters\n",
    "plt.plot(ssd)\n",
    "#print (ssd)"
   ]
  },
  {
   "cell_type": "code",
   "execution_count": 15,
   "id": "f3d1b4e2",
   "metadata": {},
   "outputs": [
    {
     "name": "stdout",
     "output_type": "stream",
     "text": [
      "for n_clusters=2, the silhouette score is 0.8671275857645031\n",
      "for n_clusters=3, the silhouette score is 0.8010260684355875\n",
      "for n_clusters=4, the silhouette score is 0.6011962980457282\n",
      "for n_clusters=5, the silhouette score is 0.5376154749927676\n",
      "for n_clusters=6, the silhouette score is 0.4355641324600429\n",
      "for n_clusters=7, the silhouette score is 0.5259628921313465\n",
      "for n_clusters=8, the silhouette score is 0.49261904712077115\n",
      "for n_clusters=9, the silhouette score is 0.48658373130521354\n",
      "for n_clusters=10, the silhouette score is 0.46637502134535336\n",
      "for n_clusters=11, the silhouette score is 0.4441364181437631\n",
      "for n_clusters=12, the silhouette score is 0.4205562894029382\n",
      "for n_clusters=13, the silhouette score is 0.3420145734998409\n",
      "for n_clusters=14, the silhouette score is 0.2832887492276007\n"
     ]
    }
   ],
   "source": [
    "from sklearn.metrics import silhouette_score\n",
    "K = range (2,15)\n",
    "for num_clusters in K:\n",
    "    \n",
    "    #inisalisai kmeans\n",
    "    kmeans = KMeans(n_clusters=num_clusters, max_iter=50)\n",
    "    kmeans.fit(df)\n",
    "    kluster = kmeans.labels_\n",
    "    \n",
    "    #silhouette score\n",
    "    silhouette_rata2 = silhouette_score(df, kluster)\n",
    "    print (\"for n_clusters={0}, the silhouette score is {1}\".format (num_clusters,  silhouette_rata2))"
   ]
  },
  {
   "cell_type": "code",
   "execution_count": null,
   "id": "d0a4c668",
   "metadata": {},
   "outputs": [],
   "source": []
  }
 ],
 "metadata": {
  "kernelspec": {
   "display_name": "Python 3",
   "language": "python",
   "name": "python3"
  },
  "language_info": {
   "codemirror_mode": {
    "name": "ipython",
    "version": 3
   },
   "file_extension": ".py",
   "mimetype": "text/x-python",
   "name": "python",
   "nbconvert_exporter": "python",
   "pygments_lexer": "ipython3",
   "version": "3.8.8"
  }
 },
 "nbformat": 4,
 "nbformat_minor": 5
}
